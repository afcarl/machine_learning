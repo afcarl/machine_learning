{
 "cells": [
  {
   "cell_type": "markdown",
   "metadata": {},
   "source": [
    "# Task 1 (5% credit) \n",
    "Provide a definition for the concept of a conjugate prior given the Bayesian learning model. What is the conjugate prior for the univariate linear regression $y\\sim {\\cal N}(wx,\\sigma^2)$ with a fixed $\\sigma$?"
   ]
  },
  {
   "cell_type": "markdown",
   "metadata": {},
   "source": [
    "# Task 2 (5% credit). \n",
    "Which prior in the Bayesian linear regression framework leads to: a) Ridge regression, b) Lasso regression?"
   ]
  },
  {
   "cell_type": "markdown",
   "metadata": {},
   "source": [
    "# Task 3 (10% credit). \n",
    "Answer some questions about the properties of Lasso/Ridge:\n",
    "\n",
    "a) Which of the Lasso and Ridge regressions possess an analytic solution in the closed form?\n",
    "\n",
    "b) Which of the Lasso and Ridge regressions often use to completely eliminate coefficients for some of the regressors?\n",
    "\n",
    "c) Which value of $\\lambda$ makes Lasso and Ridge identical to the ordinary least square regression?\n",
    "\n",
    "d) What dataset (training, validation or test) you would use to estimate the $\\lambda$ for Lasso or Ridge?"
   ]
  },
  {
   "cell_type": "markdown",
   "metadata": {},
   "source": [
    "# Task 4 (15% credit). \n",
    "Consider a Bayesian univariate linear regression $y\\sim {\\cal N}(wx,\\sigma^2)$ with a given $\\sigma=1$ and the prior $w\\sim {\\cal N}(5,1)$. Compute the posterior distribution after an observation $y=12,x=2$. After all, what is the probability of having $w<5$?"
   ]
  },
  {
   "cell_type": "markdown",
   "metadata": {},
   "source": [
    "# Task 5 (20% credit). \n",
    "For the training and test sets provided below, train a linear regression of $y$ (last column) vs the rest of the columns of the table treated as regressors (intercept excluded) over the training set, apply it to the test set and report it's R2 performance over both - training and test set."
   ]
  },
  {
   "cell_type": "code",
   "execution_count": null,
   "metadata": {
    "collapsed": true
   },
   "outputs": [],
   "source": [
    "import pandas as pd\n",
    "data_train=pd.read_csv(\"Homework1_training.csv\")\n",
    "data_test=pd.read_csv(\"Homework1_test.csv\")"
   ]
  },
  {
   "cell_type": "markdown",
   "metadata": {},
   "source": [
    "# Task 6 (20% credit). \n",
    "Train Lasso and Ridge regressions using the training sample above with $\\lambda_{Ridge}=40000$ and $\\lambda_{Lasso}=40$ and report their performance over the test set."
   ]
  },
  {
   "cell_type": "markdown",
   "metadata": {},
   "source": [
    "# Task 7 (25% credit). \n",
    "For each $m=1,2,...39$ train OLS, Lasso and Ridge regressions using the training sample above with $\\lambda_{Ridge}=40000$ and $\\lambda_{Lasso}=40$ using the first $m$ columns of the data tables as the regressors and plot the in-sample (training) and out-of-sample (test) R2 for all three models on the same graph."
   ]
  },
  {
   "cell_type": "markdown",
   "metadata": {},
   "source": [
    "# Extracredit (25% of credit to be applied towards this or any other homework)\n",
    "Using a series of 10 random splits (cross-validation) of the training sample into approximately 60% training and 40% validation samples perform the selection of the optimal $\\lambda$ for Ridge and Lasso regression: for each $\\lambda$ of the considered sequence compute an average validation R2 for the 10 splits considered and finally select the $\\lambda$ having the highest value for this average R2. Visualize the dependence of the said average cross-validation R2 over $\\lambda$ for Lasso and Ridge. Report the R2 computed over the test set for the Lasso and Ridge trained over the entire training set with the selected optimal values of $\\lambda$."
   ]
  },
  {
   "cell_type": "code",
   "execution_count": null,
   "metadata": {
    "collapsed": true
   },
   "outputs": [],
   "source": []
  }
 ],
 "metadata": {
  "kernelspec": {
   "display_name": "Python 2",
   "language": "python",
   "name": "python2"
  },
  "language_info": {
   "codemirror_mode": {
    "name": "ipython",
    "version": 2
   },
   "file_extension": ".py",
   "mimetype": "text/x-python",
   "name": "python",
   "nbconvert_exporter": "python",
   "pygments_lexer": "ipython2",
   "version": "2.7.11"
  }
 },
 "nbformat": 4,
 "nbformat_minor": 0
}
