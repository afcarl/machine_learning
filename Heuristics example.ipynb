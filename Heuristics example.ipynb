{
 "cells": [
  {
   "cell_type": "code",
   "execution_count": null,
   "metadata": {
    "collapsed": false
   },
   "outputs": [],
   "source": [
    "import pandas as pd\n",
    "import numpy as np\n",
    "from sklearn.ensemble import RandomForestClassifier\n",
    "from sklearn.metrics import roc_auc_score\n",
    "from sklearn.metrics import accuracy_score\n",
    "from sklearn.linear_model import LogisticRegression\n",
    "from sklearn.feature_selection import SelectFromModel\n",
    "import random\n",
    "import matplotlib\n",
    "%matplotlib inline\n",
    "import matplotlib.pyplot as plt\n",
    "matplotlib.style.use('ggplot')"
   ]
  },
  {
   "cell_type": "code",
   "execution_count": null,
   "metadata": {
    "collapsed": false
   },
   "outputs": [],
   "source": [
    "# load data\n",
    "train_set = pd.DataFrame.from_csv('sqf_train_cpw.csv', index_col = False)\n",
    "test_set = pd.DataFrame.from_csv('sqf_test_cpw.csv', index_col = False)\n"
   ]
  },
  {
   "cell_type": "code",
   "execution_count": null,
   "metadata": {
    "collapsed": true
   },
   "outputs": [],
   "source": [
    "# join and re-split data to get all categories\n",
    "train_set['set'] = 'train'\n",
    "test_set['set'] = 'test'\n",
    "joined_data = train_set.append(test_set)\n",
    "\n",
    "# select all non-real-valued columns (besides 'set' and 'id') and convert to one-hot encoding\n",
    "col_names = joined_data.columns\n",
    "col_names = col_names.difference(['id', 'set', 'suspect.age', 'suspect.weight', 'suspect.height', 'observation.period'])\n",
    "joined_data = pd.get_dummies(data=joined_data, columns=col_names, sparse=True)\n"
   ]
  },
  {
   "cell_type": "code",
   "execution_count": null,
   "metadata": {
    "collapsed": true
   },
   "outputs": [],
   "source": [
    "# remove redundant columns (binary columns of the form 'variable_False')\n",
    "redundant_cols = []\n",
    "for name in list(joined_data):\n",
    "    if \"False\" in name:\n",
    "        redundant_cols.append(name)\n",
    "joined_data.drop(redundant_cols, inplace=True, axis=1)\n"
   ]
  },
  {
   "cell_type": "code",
   "execution_count": null,
   "metadata": {
    "collapsed": false
   },
   "outputs": [],
   "source": [
    "# split data again\n",
    "train = joined_data.loc[joined_data['set'] == 'train']\n",
    "train = train.drop(['set'], axis=1)\n",
    "test = joined_data.loc[joined_data['set'] == 'test']\n",
    "test = test.drop(['set'], axis=1)"
   ]
  },
  {
   "cell_type": "code",
   "execution_count": null,
   "metadata": {
    "collapsed": false
   },
   "outputs": [],
   "source": [
    "# split training data into features and outcome (numpy arrays, to feed to sklearn algorithms)\n",
    "label_train = np.ravel(train[['found.weapon_True']].values)\n",
    "pred_train = train.drop(['id', 'arrested_True', 'found.weapon_True', 'found.gun_True'], axis=1)\n",
    "pred_train = pred_train.values \n"
   ]
  },
  {
   "cell_type": "code",
   "execution_count": null,
   "metadata": {
    "collapsed": true
   },
   "outputs": [],
   "source": [
    "# format test data\n",
    "results = test.copy()\n",
    "label_test = np.ravel(test[['found.weapon_True']].values)\n",
    "pred_test = test.drop(['id', 'found.weapon_True', 'arrested_True', 'found.gun_True'], axis=1)\n",
    "feature_names = list(pred_test.columns.values)\n",
    "pred_test = pred_test.values "
   ]
  },
  {
   "cell_type": "code",
   "execution_count": null,
   "metadata": {
    "collapsed": false
   },
   "outputs": [],
   "source": [
    "# fit an L1 penalized logistic regression model\n",
    "logit_classifier = LogisticRegression(penalty=\"l1\", solver='liblinear', verbose=2)\n",
    "logit_classifier.fit(X=pred_train, y=label_train)\n",
    "\n",
    "logit_predictions = logit_classifier.predict_proba(pred_test)[:, 1]\n",
    "results['preds'] = logit_predictions\n",
    "print roc_auc_score(label_test, logit_predictions)\n",
    "\n",
    "logit_predictions_class = logit_classifier.predict(pred_test)\n",
    "print accuracy_score(label_test, logit_predictions_class, normalize=True)"
   ]
  },
  {
   "cell_type": "code",
   "execution_count": null,
   "metadata": {
    "collapsed": false
   },
   "outputs": [],
   "source": [
    "# for different threshold values, select the features which remain in the model\n",
    "model = SelectFromModel(logit_classifier, prefit=True, threshold=.5)\n",
    "pred_test_new = model.transform(pred_test)\n",
    "\n",
    "#pred_test.shape\n",
    "#pred_test_new.shape\n",
    "#print model.get_support()\n"
   ]
  },
  {
   "cell_type": "code",
   "execution_count": null,
   "metadata": {
    "collapsed": true
   },
   "outputs": [],
   "source": [
    "feature_importances = list(model.get_support())\n",
    "feature_list = []\n",
    "for i in range(0,len(feature_names)):\n",
    "    feature_list.append((feature_names[i], feature_importances[i]))\n",
    "\n",
    "#get the names of the features from the previous cell\n",
    "#print sorted(feature_list, reverse=True, key=lambda x: x[1])"
   ]
  },
  {
   "cell_type": "code",
   "execution_count": null,
   "metadata": {
    "collapsed": false
   },
   "outputs": [],
   "source": [
    "# train a new model based just on features selected above\n",
    "#predictors = ['location.housing_housing', 'location.housing_neither', 'stopped.bc.object_True', 'stopped.bc.bulge_True', 'additional.sights_True']\n",
    "#pred_train = train[predictors]\n",
    "#pred_train = pred_train.values \n",
    "#pred_test = test[predictors]\n",
    "#feature_names = list(pred_test.columns.values)\n",
    "#pred_test = pred_test.values \n",
    "\n",
    "\n",
    "# How does AUC change as you add/subtract features?\n",
    "\n",
    "#logit_classifier_simple = LogisticRegression(solver='liblinear', verbose=2)\n",
    "#logit_classifier_simple.fit(X=pred_train, y=label_train)\n",
    "\n",
    "#logit_predictions_simple = logit_classifier_simple.predict_proba(pred_test)[:, 1]\n",
    "#results['preds_simple'] = logit_predictions_simple\n",
    "#print roc_auc_score(label_test, logit_predictions_simple)\n",
    "\n",
    "#print logit_classifier_simple.coef_\n",
    "\n"
   ]
  },
  {
   "cell_type": "code",
   "execution_count": null,
   "metadata": {
    "collapsed": false
   },
   "outputs": [],
   "source": [
    "# add a column which contains the unit weighted heuristic score derived from the features from the previous cell"
   ]
  },
  {
   "cell_type": "code",
   "execution_count": null,
   "metadata": {
    "collapsed": false
   },
   "outputs": [],
   "source": [
    "# Plotting question:\n",
    "# Make a recovery plot: if you used the logistic model to rank stops by model-predicted likelihood of weapon recovery, \n",
    "# from highest to lowest, what percent of weapons would you recover if you made the best x percent of stops?\n",
    "# The plot should have percent of stops on the x axis and percent weapons recovered on the y axis\n",
    "\n",
    "# HINTS:\n",
    "# 1) order results by column 'preds'\n",
    "#results = results.sort(['preds'], ascending=False)\n",
    "# 2) add a column to results which is the cumulative sum of found.weapon_True\n",
    "#plot_data = results[['found.weapon_True', 'preds']]\n",
    "#plot_data['weap_sum'] = plot_data['found.weapon_True'].cumsum()\n",
    "# 3) use the above cumulative sum to make a column which shows percent weapons recovered\n",
    "#plot_data['weap_perc'] = 100*plot_data['weap_sum']/plot_data['found.weapon_True'].sum()\n",
    "# 4) add a column which counts the stops\n",
    "#s = [j for j in range(1,296522)]\n",
    "#plot_data['nstop'] = s\n",
    "# 5) use the above stop count column to make a column which shows percent of all stops\n",
    "#plot_data['stop_perc'] = 100*plot_data['nstop']/plot_data.shape[0]\n",
    "# 6) restrict to just the columns from 3) and 5), downsample to maybe 1000 rows\n",
    "#plot_data = plot_data[['stop_perc', 'weap_perc']]\n",
    "#rows = random.sample(plot_data.index, 1000)\n",
    "#plot_data = plot_data.ix[rows]\n",
    "# 7) sort everything in ascending order by the column from 5), then plot.\n",
    "#plot_data = plot_data.sort(['stop_perc'], ascending=True)\n",
    "#plt.figure()\n",
    "#plot_data.plot(x='stop_perc', y='weap_perc')\n",
    "\n",
    "\n",
    "\n",
    "###### how does the heuristic model perform??\n"
   ]
  },
  {
   "cell_type": "code",
   "execution_count": null,
   "metadata": {
    "collapsed": true
   },
   "outputs": [],
   "source": [
    "o"
   ]
  }
 ],
 "metadata": {
  "kernelspec": {
   "display_name": "Python 3",
   "language": "python",
   "name": "python3"
  },
  "language_info": {
   "codemirror_mode": {
    "name": "ipython",
    "version": 3
   },
   "file_extension": ".py",
   "mimetype": "text/x-python",
   "name": "python",
   "nbconvert_exporter": "python",
   "pygments_lexer": "ipython3",
   "version": "3.5.1"
  }
 },
 "nbformat": 4,
 "nbformat_minor": 0
}
